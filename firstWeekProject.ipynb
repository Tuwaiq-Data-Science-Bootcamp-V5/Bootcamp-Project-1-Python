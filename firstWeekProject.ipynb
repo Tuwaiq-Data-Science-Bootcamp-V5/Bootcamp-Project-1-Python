{
 "cells": [
  {
   "cell_type": "code",
   "execution_count": 1,
   "id": "eb996a94",
   "metadata": {},
   "outputs": [],
   "source": [
    "srcList = ['dammam', 'dubai', 'dammam', 'jeddah', 'bahrain']\n",
    "dstList = ['thailand', 'india', 'bahrain', 'china', 'morocco']\n",
    "timeList = ['7 AM', '2 PM', '5 AM', '9 PM', '2 AM']\n",
    "dateList = ['25/10','30/10','4/11','15/11','29/11']\n",
    "tripIDList = [0,1,2,3,4]\n",
    "priceList = ['2000', '1500', '1800', '900', '1400']\n",
    "avalList = [1000,2000,400,800,1500]\n",
    "x = 5"
   ]
  },
  {
   "cell_type": "code",
   "execution_count": 2,
   "id": "f793f2ea",
   "metadata": {},
   "outputs": [],
   "source": [
    "class trips:\n",
    "    \n",
    "    def __init__(self,tripID,src,dst,time,price,date,aval):\n",
    "        self.src = srcList.append(input(\"enter the departure port:\\n\"))\n",
    "        self.dst = dstList.append(input(\"enter the destination?\\n\"))\n",
    "        self.date = dateList.append(input(\"enter the date of the trip\\n\"))\n",
    "        self.time = timeList.append(input(\"when it will be?\\n\"))\n",
    "        self.tripID = tripIDList.append(x)\n",
    "        self.price = priceList.append(input(\"how much will cost the customer?\\n\"))\n",
    "        self.aval = avalList.append(input(\"how many person can this cruise handle?\\n\"))\n",
    "        \n",
    "    def timeChange(self,tripID,newTime):\n",
    "        for i in range(len(tripIDList)):\n",
    "            if tripID == tripIDList[i]:\n",
    "                timeList[i] = newTime\n",
    "        \n",
    "    def show(self,src,dst):\n",
    "        print(\"this is the results:\")\n",
    "        for i in range(len(srcList)):\n",
    "            if srcList[i] == src and dstList[i] == dst:\n",
    "                print(f'\\ntrip from({srcList[i]}) to ({dstList[i]}) will be at {timeList[i]}')\n",
    "            "
   ]
  },
  {
   "cell_type": "code",
   "execution_count": 3,
   "id": "e5fd9332",
   "metadata": {},
   "outputs": [
    {
     "name": "stdout",
     "output_type": "stream",
     "text": [
      "enter the departure port:\n",
      "dammam\n",
      "enter the destination?\n",
      "jeddah\n",
      "enter the date of the trip\n",
      "20/11\n",
      "when it will be?\n",
      "12 AM\n",
      "how much will cost the customer?\n",
      "1200\n",
      "how many person can this cruise handle?\n",
      "10\n"
     ]
    }
   ],
   "source": [
    "trip = trips(1,1,1,1,1,1,1) \n",
    "x = x + 1"
   ]
  },
  {
   "cell_type": "code",
   "execution_count": 4,
   "id": "e15c5de0",
   "metadata": {},
   "outputs": [
    {
     "name": "stdout",
     "output_type": "stream",
     "text": [
      "['thailand', 'india', 'bahrain', 'china', 'morocco', 'jeddah'] ['dammam', 'dubai', 'dammam', 'jeddah', 'bahrain', 'dammam'] ['7 AM', '2 PM', '5 AM', '9 PM', '2 AM', '12 AM'] [0, 1, 2, 3, 4, 5] ['2000', '1500', '1800', '900', '1400', '1200'] ['25/10', '30/10', '4/11', '15/11', '29/11', '20/11'] [1000, 2000, 400, 800, 1500, '10']\n"
     ]
    }
   ],
   "source": [
    "print(dstList,srcList,timeList,tripIDList,priceList,dateList,avalList)"
   ]
  },
  {
   "cell_type": "code",
   "execution_count": 5,
   "id": "8e999a2f",
   "metadata": {},
   "outputs": [],
   "source": [
    "trip.timeChange(0,'11:30 AM')"
   ]
  },
  {
   "cell_type": "code",
   "execution_count": 6,
   "id": "6f240a31",
   "metadata": {},
   "outputs": [
    {
     "name": "stdout",
     "output_type": "stream",
     "text": [
      "this is the results:\n",
      "\n",
      "trip from(dammam) to (thailand) will be at 11:30 AM\n"
     ]
    }
   ],
   "source": [
    "trip.show('dammam','thailand')"
   ]
  },
  {
   "cell_type": "code",
   "execution_count": 7,
   "id": "5a021bb7",
   "metadata": {},
   "outputs": [],
   "source": [
    "\n",
    "\n",
    "def searchBySrc(src):\n",
    "    print(f'this is the informations of cruises going from {src}:\\n')\n",
    "    for i in range(len(srcList)):\n",
    "            if srcList[i] == src:\n",
    "                price_in_rials = (lambda x: x * 3.75)(float(priceList[i]))\n",
    "                print(f'It will be going to {dstList[i]} on {dateList[i]} at {timeList[i]} and will cost {priceList[i]}$ \\\n",
    "and price in rials will be {price_in_rials} rials.\\nyou can choose it by the trip ID which is ({tripIDList[i]})\\n')\n",
    "     \n",
    "def searchByDate(date):\n",
    "    print(f'this is the informations of cruises going on {date}:\\n')\n",
    "    for i in range(len(dateList)):\n",
    "            if dateList[i] == date:\n",
    "                price_in_rials = (lambda x: x * 3.75)(float(priceList[i]))\n",
    "                print(f'It will be going from {srcList[i]} to {dstList[i]} at {timeList[i]} and will cost {priceList[i]}$ \\\n",
    "and price in rials will be {price_in_rials} rials.\\nyou can choose it by the trip ID which is ({tripIDList[i]})\\n')\n",
    "                \n",
    "def reserve(tripID):\n",
    "    for i in range(len(tripIDList)):\n",
    "        if tripIDList[i] == tripID and int(avalList[i]) > 0:\n",
    "            print(\"you resrvation complete ones you sone your payments.\")\n",
    "            avalList[i] = int(avalList[i] - 1)\n",
    "            break\n",
    "        elif tripIDList[i] == tripID and int(avalList[i]) == 0:\n",
    "            print(\"sorry this trip fully booked.\")\n",
    "            break\n",
    "\n",
    "    else :\n",
    "        print(\"there is no trip have this ID\")\n",
    "        \n"
   ]
  },
  {
   "cell_type": "code",
   "execution_count": 8,
   "id": "ead9745d",
   "metadata": {},
   "outputs": [
    {
     "name": "stdout",
     "output_type": "stream",
     "text": [
      "this is the informations of cruises going from dammam:\n",
      "\n",
      "It will be going to thailand on 25/10 at 11:30 AM and will cost 2000$ and price in rials will be 7500.0 rials.\n",
      "you can choose it by the trip ID which is (0)\n",
      "\n",
      "It will be going to bahrain on 4/11 at 5 AM and will cost 1800$ and price in rials will be 6750.0 rials.\n",
      "you can choose it by the trip ID which is (2)\n",
      "\n",
      "It will be going to jeddah on 20/11 at 12 AM and will cost 1200$ and price in rials will be 4500.0 rials.\n",
      "you can choose it by the trip ID which is (5)\n",
      "\n"
     ]
    }
   ],
   "source": [
    "searchBySrc('dammam')"
   ]
  },
  {
   "cell_type": "code",
   "execution_count": 9,
   "id": "d5880314",
   "metadata": {},
   "outputs": [
    {
     "name": "stdout",
     "output_type": "stream",
     "text": [
      "this is the informations of cruises going on 15/11:\n",
      "\n",
      "It will be going from jeddah to china at 9 PM and will cost 900$ and price in rials will be 3375.0 rials.\n",
      "you can choose it by the trip ID which is (3)\n",
      "\n"
     ]
    }
   ],
   "source": [
    "searchByDate('15/11')"
   ]
  },
  {
   "cell_type": "code",
   "execution_count": 10,
   "id": "536a212e",
   "metadata": {},
   "outputs": [
    {
     "name": "stdout",
     "output_type": "stream",
     "text": [
      "you resrvation complete ones you sone your payments.\n"
     ]
    }
   ],
   "source": [
    "reserve(3)"
   ]
  }
 ],
 "metadata": {
  "kernelspec": {
   "display_name": "Python 3 (ipykernel)",
   "language": "python",
   "name": "python3"
  },
  "language_info": {
   "codemirror_mode": {
    "name": "ipython",
    "version": 3
   },
   "file_extension": ".py",
   "mimetype": "text/x-python",
   "name": "python",
   "nbconvert_exporter": "python",
   "pygments_lexer": "ipython3",
   "version": "3.9.12"
  }
 },
 "nbformat": 4,
 "nbformat_minor": 5
}
