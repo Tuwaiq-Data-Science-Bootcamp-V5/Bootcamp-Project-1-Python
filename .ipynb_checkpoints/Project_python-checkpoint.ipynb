{
 "cells": [
  {
   "cell_type": "code",
   "execution_count": null,
   "id": "226d6eea-75ad-4747-af89-d4d2f49deb89",
   "metadata": {},
   "outputs": [
    {
     "name": "stdout",
     "output_type": "stream",
     "text": [
      "Welcome to the store\n",
      "list of games:\n",
      "- Fifa - SAR50\n",
      "- Elden Ring - SAR40\n",
      "- Gta - SAR45\n",
      "- Fortnite - SAR35\n",
      "- Bat Man - SAR30\n"
     ]
    }
   ],
   "source": [
    "Games = {\n",
    "   \"Fifa\": 50,\n",
    "    \"Elden Ring\": 40,\n",
    "    \"Gta\": 45,\n",
    "    \"Fortnite\": 35,\n",
    "    \"Bat Man\": 30\n",
    "}\n",
    "tax = lambda amount: amount * 0.15\n",
    "\n",
    "\n",
    "def display_game():\n",
    "    print(\"list of games:\")\n",
    "    for game, price in Games.items():\n",
    "        print(\"- \" + game + \" - SAR\" + str(price))\n",
    "\n",
    "\n",
    "def game_price(game, num_game):\n",
    "    if game in Games:\n",
    "        price = Games[game]\n",
    "        total_cost = price * num_game\n",
    "        total_cost_with_tax = total_cost + tax(total_cost)\n",
    "        print(\"\", num_game, \" the game\", game)\n",
    "        print(\"Total cost: SAR\" + str(total_cost))\n",
    "        print(\"Total cost including tax: SAR\" + str(total_cost_with_tax))\n",
    "    else:\n",
    "        print(\"Sorry, the game is not available.\")\n",
    "\n",
    "\n",
    "print(\"Welcome to the store\")\n",
    "display_game()\n",
    "\n",
    "while True:\n",
    "    game = input(\"Please enter the name of the game or exit to quit: \")\n",
    "\n",
    "    if game.lower() == \"exit\":\n",
    "        print(\"Thank you!\")\n",
    "        break\n",
    "\n",
    "    game_capital = game.title()\n",
    "\n",
    "    if game_capital in Games:\n",
    "        num_game = int(input(\"How much do you want? \"))\n",
    "        game_price(game_capital, num_game)\n",
    "    else:\n",
    "        print(\"Sorry, the game is not available.\")"
   ]
  },
  {
   "cell_type": "code",
   "execution_count": null,
   "id": "47bd1678-5b34-48ee-b6e7-3b1000247a1c",
   "metadata": {},
   "outputs": [],
   "source": []
  },
  {
   "cell_type": "code",
   "execution_count": null,
   "id": "3cb3f3d9-f875-4111-876d-8f3bfd034731",
   "metadata": {},
   "outputs": [],
   "source": []
  }
 ],
 "metadata": {
  "kernelspec": {
   "display_name": "Python 3 (ipykernel)",
   "language": "python",
   "name": "python3"
  },
  "language_info": {
   "codemirror_mode": {
    "name": "ipython",
    "version": 3
   },
   "file_extension": ".py",
   "mimetype": "text/x-python",
   "name": "python",
   "nbconvert_exporter": "python",
   "pygments_lexer": "ipython3",
   "version": "3.9.13"
  }
 },
 "nbformat": 4,
 "nbformat_minor": 5
}
