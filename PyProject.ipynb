{
 "cells": [
  {
   "cell_type": "code",
   "execution_count": 1,
   "id": "20ea6683-e9aa-470a-b14d-4911c526ec90",
   "metadata": {},
   "outputs": [
    {
     "name": "stdin",
     "output_type": "stream",
     "text": [
      "Enter your name:  Yasser\n"
     ]
    },
    {
     "name": "stdout",
     "output_type": "stream",
     "text": [
      "Welcome, detective Yasser! You are part of the investegation for a catching the spy within the police department.\n",
      "However, you have to detect the spy by looking for information about every officer\n",
      "\n",
      "Can you identify the spy and save the day?\n",
      "\n",
      "Choose what you want to do:\n",
      "1. Ask about the officer's position\n",
      "2. Ask for a background\n",
      "3. Look for officer's clue\n",
      "4. Look for officer's suspicions\n",
      "5. Make an accusation\n",
      "6. List officers\n",
      "--------------------\n"
     ]
    },
    {
     "name": "stdin",
     "output_type": "stream",
     "text": [
      "Enter your choice (1/2/3/4/5/6):  2\n"
     ]
    },
    {
     "name": "stdout",
     "output_type": "stream",
     "text": [
      "You decided to Ask for a background. Whose background would you like to look for?\n"
     ]
    },
    {
     "name": "stdin",
     "output_type": "stream",
     "text": [
      "Enter the name of the Officer:  Bader\n"
     ]
    },
    {
     "name": "stdout",
     "output_type": "stream",
     "text": [
      "--------------------\n",
      "Bader's Background: Bader is an expert in encryption and data security,\n",
      " often assisting the police department in securing sensitive information. \n",
      "He's quiet and reserved, with a strong background in hacking and cyber security.\n",
      "--------------------\n",
      "Choose what you want to do:\n",
      "1. Ask about the officer's position\n",
      "2. Ask for a background\n",
      "3. Look for officer's clue\n",
      "4. Look for officer's suspicions\n",
      "5. Make an accusation\n",
      "6. List officers\n",
      "--------------------\n"
     ]
    },
    {
     "name": "stdin",
     "output_type": "stream",
     "text": [
      "Enter your choice (1/2/3/4/5/6):  5\n"
     ]
    },
    {
     "name": "stdout",
     "output_type": "stream",
     "text": [
      "You've made an accusation. Who do you accuse?\n"
     ]
    },
    {
     "name": "stdin",
     "output_type": "stream",
     "text": [
      "Enter the name of the Officer you want to accuse:  Sami\n"
     ]
    },
    {
     "name": "stdout",
     "output_type": "stream",
     "text": [
      "Sorry, Sami is not the spy. Keep investigating!\n",
      "--------------------\n",
      "Choose what you want to do:\n",
      "1. Ask about the officer's position\n",
      "2. Ask for a background\n",
      "3. Look for officer's clue\n",
      "4. Look for officer's suspicions\n",
      "5. Make an accusation\n",
      "6. List officers\n",
      "--------------------\n"
     ]
    },
    {
     "name": "stdin",
     "output_type": "stream",
     "text": [
      "Enter your choice (1/2/3/4/5/6):  5\n"
     ]
    },
    {
     "name": "stdout",
     "output_type": "stream",
     "text": [
      "You've made an accusation. Who do you accuse?\n"
     ]
    },
    {
     "name": "stdin",
     "output_type": "stream",
     "text": [
      "Enter the name of the Officer you want to accuse:  Bader\n"
     ]
    },
    {
     "name": "stdout",
     "output_type": "stream",
     "text": [
      "--------------------\n",
      "Congratulations! You've identified the spy, Bader, and saved the day!\n",
      "Game Over. Thanks for playing!\n"
     ]
    }
   ],
   "source": [
    "playerName = str(input(\"Enter your name: \"))\n",
    "spy = \"Bader\"\n",
    "gameOver = False\n",
    "def checkAccusation(accusation, spyName):\n",
    "    if accusation == spyName:\n",
    "        return True\n",
    "    else:\n",
    "        return False\n",
    "officers = {\n",
    "    \"Ahmed\": {\n",
    "        \"Position\": \"Investigative Analyst\",\n",
    "        \"Background\": \"Ahmed's analytical skills are great when it comes to data organization and connecting complex patterns in cases.\\n He is known for his discretion and loyalty to the department, and he's often tasked with handling sensitive information.\",\n",
    "        \"Clues\": \"Ahmed recently found an encrypted messages during his data analysis work.\\n The messages seemed to contain coded references to unannounced activities within the police department. \",\n",
    "        \"Suspicions\": \"an internal agent with expertise in encryption.\",\n",
    "    },\n",
    "    \"Bilsan\": {\n",
    "        \"Position\": \"Police Investigator and Legal Expert\",\n",
    "        \"Background\": \"Bilsan is investigator and legal expert  in navigating legal complexities.\\n She has a long history with the police department and is known for her good judgment and legal expertise.\",\n",
    "        \"Clues\": \"a noticed inconsistencies in the way evidence was presented.\",\n",
    "        \"Suspicions\":\"Ahmed, known for his investigative analysis.\",\n",
    "    },\n",
    "    \"Bader\": {\n",
    "        \"Position\": \"Cryptographer and Data Security Specialist\",\n",
    "        \"Background\": \"Bader is an expert in encryption and data security,\\n often assisting the police department in securing sensitive information. \\nHe's quiet and reserved, with a strong background in hacking and cyber security.\",\n",
    "        \"Clues\": \"uncovered a potential data leak within the department.\",\n",
    "        \"Suspicions\": \"Sami, who has access to secure data for undercover operations\",\n",
    "    },\n",
    "    \"Sami\": {\n",
    "        \"Position\": \"Undercover Specialist\",\n",
    "        \"Background\": \"Sami is known for his exceptional observation skills.\\n He has the ability to blend into any environment.\\n He often solves complex cases.\",\n",
    "        \"Clues\": \"Sami has recently concerns about irregular data security within the department. \",\n",
    "        \"Suspicions\": \"internal informant with a strong background in encryption and hacking.\",\n",
    "    },\n",
    "    \"Eman\": {\n",
    "        \"Position\": \"Forensic Expert\",\n",
    "        \"Background\": \"Eman is a forensic expert known for her attention to detail.\\n She specializes in analyzing crime scene evidence.\",\n",
    "        \"Clues\": \"noticed an unusual inconsistency in the fingerprints. The prints didn't match any known suspects.\",\n",
    "        \"Suspicions\": \"Sami, known for his undercover work\",\n",
    "    },\n",
    "    \"Fahad\": {\n",
    "        \"Position\": \"Investigative Journalist\",\n",
    "        \"Background\": \"Known for uncovering hidden truths and exposing scandals.\",\n",
    "        \"Clues\": \"Potential internal espionage activities .\\n The source of this remains unknown, but its someone with a knowledge of encryption and hacking.\",\n",
    "        \"Suspicions\": \"Probably Bader, he has a knowledge in cyper security \",\n",
    "    }\n",
    "}\n",
    "\n",
    "sortOfficers = lambda officers: sorted(officers.keys())\n",
    "\n",
    "print(f\"Welcome, detective {playerName}! You are part of the investegation for a catching the spy within the police department.\")\n",
    "print(\"However, you have to detect the spy by looking for information about every officer\\n\")\n",
    "print(\"Can you identify the spy and save the day?\\n\")\n",
    "while not gameOver:\n",
    "    try:\n",
    "        print(\"Choose what you want to do:\")\n",
    "        print(\"1. Ask about the officer's position\")\n",
    "        print(\"2. Ask for a background\")\n",
    "        print(\"3. Look for officer's clue\")\n",
    "        print(\"4. Look for officer's suspicions\")\n",
    "        print(\"5. Make an accusation\")\n",
    "        print(\"6. List officers\")\n",
    "        print(\"-\"*20)\n",
    "        choice = int(input(\"Enter your choice (1/2/3/4/5/6): \"))\n",
    "\n",
    "        if choice == 1:\n",
    "         print(\"You decided to ask about the officer's position. Who would you like to ask about?\")\n",
    "         officerName1 = str(input(\"Enter the name of the Officer: \"))\n",
    "\n",
    "         if officerName1 in officers:\n",
    "          print(\"-\"*20)\n",
    "          officerPosition = officers[officerName1][\"Position\"]\n",
    "          print(f\"{officerName1} is the {officerPosition}.\")\n",
    "          print(\"-\"*20)\n",
    "         else:\n",
    "          print(\"Invalid Officer name. Please choose a valid Officer to ask about.\")\n",
    "\n",
    "        elif choice == 2:\n",
    "          print(\"You decided to Ask for a background. Whose background would you like to look for?\")\n",
    "          OfficerName2 = str(input(\"Enter the name of the Officer: \"))\n",
    "          if OfficerName2 in officers:\n",
    "           print(\"-\"*20)\n",
    "           officerBg = officers[OfficerName2][\"Background\"]\n",
    "           print(f\"{OfficerName2}'s Background: {officerBg}\")  \n",
    "           print(\"-\"*20)\n",
    "          else:\n",
    "           print(\"Invalid Officer name. Please choose a valid Officer to ask about.\")\n",
    "\n",
    "        elif choice == 3:\n",
    "         print(\"You decided to Ask for a clue. Whose clue would you like to look for?\")\n",
    "         OfficerName3 = str(input(\"Enter the name of the Officer: \"))\n",
    "         if OfficerName3 in officers:\n",
    "          print(\"-\"*20)\n",
    "          officerClue = officers[OfficerName3][\"Clues\"]\n",
    "          print(f\"{OfficerName3}'s clue: {officerClue}\")  \n",
    "          print(\"-\"*20)\n",
    "         else:\n",
    "          print(\"Invalid Officer name. Please choose a valid Officer to ask about.\")\n",
    "\n",
    "        elif choice == 4:\n",
    "         print(\"You decided to Ask for a Suspicions. Whose Suspicions would you like to ask for?\")\n",
    "         OfficerName4 = str(input(\"Enter the name of the Officer: \"))\n",
    "         if OfficerName4 in officers:\n",
    "          print(\"-\"*20)\n",
    "          officerSus = officers[OfficerName4][\"Suspicions\"]\n",
    "          print(f\"{OfficerName4}'s Suspicions: {officerSus}\")\n",
    "          print(\"-\"*20)  \n",
    "         else:\n",
    "          print(\"Invalid Officer name. Please choose a valid Officer to ask about.\")\n",
    "\n",
    "        elif choice == 5:\n",
    "         print(f\"You've made an accusation. Who do you accuse?\")\n",
    "         accusation = str(input(\"Enter the name of the Officer you want to accuse: \"))\n",
    "         result = checkAccusation(accusation, spy)\n",
    "         if result:\n",
    "          print(\"-\"*20)\n",
    "          print(f\"Congratulations! You've identified the spy, {spy}, and saved the day!\")\n",
    "          gameOver = True\n",
    "         else:\n",
    "          print(f\"Sorry, {accusation} is not the spy. Keep investigating!\")\n",
    "          print(\"-\"*20)\n",
    "\n",
    "        elif choice == 6:\n",
    "         sortedOfficers = sortOfficers(officers)\n",
    "         print(\"-\"*20)\n",
    "         print(\"The officers you are investegating: \", sortedOfficers)\n",
    " \n",
    "        else:\n",
    "         print(\"Invalid choice. Please enter 1, 2, 3, 4, 5, or 6.\")\n",
    "         print(\"-\"*20)\n",
    "        if gameOver:\n",
    "          break\n",
    "    except ValueError:\n",
    "        print(\"Invalid input! Please enter the right data type.\")\n",
    "print(\"Game Over. Thanks for playing!\")"
   ]
  },
  {
   "cell_type": "code",
   "execution_count": null,
   "id": "adb4c083-768f-4fec-8435-8b5da4f29c17",
   "metadata": {},
   "outputs": [],
   "source": []
  }
 ],
 "metadata": {
  "kernelspec": {
   "display_name": "Python 3 (ipykernel)",
   "language": "python",
   "name": "python3"
  },
  "language_info": {
   "codemirror_mode": {
    "name": "ipython",
    "version": 3
   },
   "file_extension": ".py",
   "mimetype": "text/x-python",
   "name": "python",
   "nbconvert_exporter": "python",
   "pygments_lexer": "ipython3",
   "version": "3.12.0"
  }
 },
 "nbformat": 4,
 "nbformat_minor": 5
}
